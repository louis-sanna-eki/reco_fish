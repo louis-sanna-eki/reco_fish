{
 "cells": [
  {
   "attachments": {},
   "cell_type": "markdown",
   "metadata": {},
   "source": [
    "# Create JSONL for vertex AI autoML"
   ]
  },
  {
   "cell_type": "code",
   "execution_count": 12,
   "metadata": {},
   "outputs": [
    {
     "name": "stdout",
     "output_type": "stream",
     "text": [
      "Requirement already satisfied: google-cloud-storage in /Users/louis.sanna/.pyenv/versions/3.8.16/lib/python3.8/site-packages (2.8.0)\n",
      "Requirement already satisfied: google-auth<3.0dev,>=1.25.0 in /Users/louis.sanna/.pyenv/versions/3.8.16/lib/python3.8/site-packages (from google-cloud-storage) (2.17.2)\n",
      "Requirement already satisfied: requests<3.0.0dev,>=2.18.0 in /Users/louis.sanna/.pyenv/versions/3.8.16/lib/python3.8/site-packages (from google-cloud-storage) (2.28.2)\n",
      "Requirement already satisfied: google-cloud-core<3.0dev,>=2.3.0 in /Users/louis.sanna/.pyenv/versions/3.8.16/lib/python3.8/site-packages (from google-cloud-storage) (2.3.2)\n",
      "Requirement already satisfied: google-resumable-media>=2.3.2 in /Users/louis.sanna/.pyenv/versions/3.8.16/lib/python3.8/site-packages (from google-cloud-storage) (2.4.1)\n",
      "Requirement already satisfied: google-api-core!=2.0.*,!=2.1.*,!=2.2.*,!=2.3.0,<3.0.0dev,>=1.31.5 in /Users/louis.sanna/.pyenv/versions/3.8.16/lib/python3.8/site-packages (from google-cloud-storage) (2.11.0)\n",
      "Requirement already satisfied: protobuf!=3.20.0,!=3.20.1,!=4.21.0,!=4.21.1,!=4.21.2,!=4.21.3,!=4.21.4,!=4.21.5,<5.0.0dev,>=3.19.5 in /Users/louis.sanna/.pyenv/versions/3.8.16/lib/python3.8/site-packages (from google-api-core!=2.0.*,!=2.1.*,!=2.2.*,!=2.3.0,<3.0.0dev,>=1.31.5->google-cloud-storage) (4.22.1)\n",
      "Requirement already satisfied: googleapis-common-protos<2.0dev,>=1.56.2 in /Users/louis.sanna/.pyenv/versions/3.8.16/lib/python3.8/site-packages (from google-api-core!=2.0.*,!=2.1.*,!=2.2.*,!=2.3.0,<3.0.0dev,>=1.31.5->google-cloud-storage) (1.59.0)\n",
      "Requirement already satisfied: pyasn1-modules>=0.2.1 in /Users/louis.sanna/.pyenv/versions/3.8.16/lib/python3.8/site-packages (from google-auth<3.0dev,>=1.25.0->google-cloud-storage) (0.2.8)\n",
      "Requirement already satisfied: rsa<5,>=3.1.4 in /Users/louis.sanna/.pyenv/versions/3.8.16/lib/python3.8/site-packages (from google-auth<3.0dev,>=1.25.0->google-cloud-storage) (4.9)\n",
      "Requirement already satisfied: cachetools<6.0,>=2.0.0 in /Users/louis.sanna/.pyenv/versions/3.8.16/lib/python3.8/site-packages (from google-auth<3.0dev,>=1.25.0->google-cloud-storage) (5.3.0)\n",
      "Requirement already satisfied: six>=1.9.0 in /Users/louis.sanna/.pyenv/versions/3.8.16/lib/python3.8/site-packages (from google-auth<3.0dev,>=1.25.0->google-cloud-storage) (1.16.0)\n",
      "Requirement already satisfied: google-crc32c<2.0dev,>=1.0 in /Users/louis.sanna/.pyenv/versions/3.8.16/lib/python3.8/site-packages (from google-resumable-media>=2.3.2->google-cloud-storage) (1.5.0)\n",
      "Requirement already satisfied: charset-normalizer<4,>=2 in /Users/louis.sanna/.pyenv/versions/3.8.16/lib/python3.8/site-packages (from requests<3.0.0dev,>=2.18.0->google-cloud-storage) (3.1.0)\n",
      "Requirement already satisfied: idna<4,>=2.5 in /Users/louis.sanna/.pyenv/versions/3.8.16/lib/python3.8/site-packages (from requests<3.0.0dev,>=2.18.0->google-cloud-storage) (3.4)\n",
      "Requirement already satisfied: certifi>=2017.4.17 in /Users/louis.sanna/.pyenv/versions/3.8.16/lib/python3.8/site-packages (from requests<3.0.0dev,>=2.18.0->google-cloud-storage) (2022.12.7)\n",
      "Requirement already satisfied: urllib3<1.27,>=1.21.1 in /Users/louis.sanna/.pyenv/versions/3.8.16/lib/python3.8/site-packages (from requests<3.0.0dev,>=2.18.0->google-cloud-storage) (1.26.15)\n",
      "Requirement already satisfied: pyasn1<0.5.0,>=0.4.6 in /Users/louis.sanna/.pyenv/versions/3.8.16/lib/python3.8/site-packages (from pyasn1-modules>=0.2.1->google-auth<3.0dev,>=1.25.0->google-cloud-storage) (0.4.8)\n",
      "\u001b[33mWARNING: You are using pip version 22.0.4; however, version 23.0.1 is available.\n",
      "You should consider upgrading via the '/Users/louis.sanna/.pyenv/versions/3.8.16/bin/python3.8 -m pip install --upgrade pip' command.\u001b[0m\u001b[33m\n",
      "\u001b[0m"
     ]
    }
   ],
   "source": [
    "!pip install google-cloud-storage\n"
   ]
  },
  {
   "cell_type": "code",
   "execution_count": 13,
   "metadata": {},
   "outputs": [
    {
     "name": "stderr",
     "output_type": "stream",
     "text": [
      "/Users/louis.sanna/.pyenv/versions/3.8.16/lib/python3.8/site-packages/google/auth/_default.py:78: UserWarning: Your application has authenticated using end user credentials from Google Cloud SDK without a quota project. You might receive a \"quota exceeded\" or \"API not enabled\" error. See the following page for troubleshooting: https://cloud.google.com/docs/authentication/adc-troubleshooting/user-creds. \n",
      "  warnings.warn(_CLOUD_SDK_CREDENTIALS_WARNING)\n",
      "/Users/louis.sanna/.pyenv/versions/3.8.16/lib/python3.8/site-packages/google/auth/_default.py:78: UserWarning: Your application has authenticated using end user credentials from Google Cloud SDK without a quota project. You might receive a \"quota exceeded\" or \"API not enabled\" error. See the following page for troubleshooting: https://cloud.google.com/docs/authentication/adc-troubleshooting/user-creds. \n",
      "  warnings.warn(_CLOUD_SDK_CREDENTIALS_WARNING)\n"
     ]
    }
   ],
   "source": [
    "\n",
    "# Replace with your own bucket name and prefix\n",
    "bucket_name = \"fish-dataset\"\n",
    "prefix = \"first-selection\"\n",
    "csv_file_path = \"../data/raw/fish-species.csv\"\n",
    "\n",
    "import csv\n",
    "import json\n",
    "from google.cloud import storage\n",
    "\n",
    "def read_csv(file_path):\n",
    "    id_to_name = {}\n",
    "    with open(file_path, 'r') as csvfile:\n",
    "        reader = csv.DictReader(csvfile)\n",
    "        for row in reader:\n",
    "            id_to_name[row['ID']] = row['nom_commun']\n",
    "    return id_to_name\n",
    "\n",
    "def list_images(bucket_name, prefix):\n",
    "    storage_client = storage.Client()\n",
    "    bucket = storage_client.get_bucket(bucket_name)\n",
    "    blobs = list(bucket.list_blobs(prefix=prefix))\n",
    "\n",
    "    image_paths = [blob.public_url for blob in blobs if blob.name.lower().endswith(('.jpg', '.jpeg', '.png'))]\n",
    "    return image_paths\n",
    "\n",
    "def get_labels_from_paths(image_paths, id_to_name):\n",
    "    labels = [id_to_name[path.split('/')[-2]] for path in image_paths]\n",
    "    return labels\n",
    "\n",
    "def create_jsonl(image_paths, labels):\n",
    "    with open('../data/processed/data.jsonl', 'w') as jsonl_file:\n",
    "        for path, label in zip(image_paths, labels):\n",
    "            data = {\n",
    "                \"imageGcsUri\": path.replace(\"https://storage.googleapis.com/\", \"gs://\"),\n",
    "                \"classificationAnnotation\": {\"displayName\": label}\n",
    "            }\n",
    "            jsonl_file.write(json.dumps(data) + '\\n')\n",
    "\n",
    "id_to_name = read_csv(csv_file_path)\n",
    "image_paths = list_images(bucket_name, prefix)\n",
    "labels = get_labels_from_paths(image_paths, id_to_name)\n",
    "\n",
    "create_jsonl(image_paths, labels)\n"
   ]
  },
  {
   "cell_type": "code",
   "execution_count": null,
   "metadata": {},
   "outputs": [],
   "source": []
  }
 ],
 "metadata": {
  "kernelspec": {
   "display_name": "Python 3",
   "language": "python",
   "name": "python3"
  },
  "language_info": {
   "codemirror_mode": {
    "name": "ipython",
    "version": 3
   },
   "file_extension": ".py",
   "mimetype": "text/x-python",
   "name": "python",
   "nbconvert_exporter": "python",
   "pygments_lexer": "ipython3",
   "version": "3.8.16"
  },
  "orig_nbformat": 4
 },
 "nbformat": 4,
 "nbformat_minor": 2
}
